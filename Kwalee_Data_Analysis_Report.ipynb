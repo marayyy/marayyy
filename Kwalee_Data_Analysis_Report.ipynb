{
  "nbformat": 4,
  "nbformat_minor": 0,
  "metadata": {
    "colab": {
      "provenance": [],
      "authorship_tag": "ABX9TyMLZ4b8QLEtMcJO9AZ03myT",
      "include_colab_link": true
    },
    "kernelspec": {
      "name": "python3",
      "display_name": "Python 3"
    },
    "language_info": {
      "name": "python"
    }
  },
  "cells": [
    {
      "cell_type": "markdown",
      "metadata": {
        "id": "view-in-github",
        "colab_type": "text"
      },
      "source": [
        "<a href=\"https://colab.research.google.com/github/marayyy/marayyy/blob/Guvi/Kwalee_Data_Analysis_Report.ipynb\" target=\"_parent\"><img src=\"https://colab.research.google.com/assets/colab-badge.svg\" alt=\"Open In Colab\"/></a>"
      ]
    },
    {
      "cell_type": "markdown",
      "source": [
        "# Task: Kwalee Data Analysis Report\n",
        "\n",
        "**Submitted by : Raj kumar.s**"
      ],
      "metadata": {
        "id": "XwoNj4NPBbbq"
      }
    },
    {
      "cell_type": "markdown",
      "source": [
        "This task is to analyze the provided data and answer the following question:\n",
        "\n",
        "Does failing a level increase the risk of churn?\n",
        "To achieve this objective, the following steps will be taken:\n",
        "\n",
        "1.Load the necessary libraries and data\n",
        "\n",
        "2.Explore and clean the data\n",
        "\n",
        "3.Conduct exploratory data analysis\n",
        "\n",
        "4.Perform statistical analysis\n",
        "\n",
        "5.Summarize the findings and answer the research question"
      ],
      "metadata": {
        "id": "l26eYeYr8ZfS"
      }
    },
    {
      "cell_type": "markdown",
      "source": [
        "# 1. Load the necessary libraries and data\n",
        "\n",
        "load the necessary libraries and read in the data provided:"
      ],
      "metadata": {
        "id": "SVRhXHL29loF"
      }
    },
    {
      "cell_type": "code",
      "execution_count": 58,
      "metadata": {
        "id": "xN2hrEd4623R"
      },
      "outputs": [],
      "source": [
        "import pandas as pd\n",
        "import numpy as np\n",
        "import seaborn as sns\n",
        "import matplotlib.pyplot as plt\n",
        "\n",
        "# Read the data\n",
        "players = pd.read_csv('/content/players.csv')\n",
        "level_progress = pd.read_csv('/content/level_progress.csv')\n"
      ]
    },
    {
      "cell_type": "markdown",
      "source": [
        "# 2. Explore and clean the data\n",
        "\n",
        "Explore the data by checking the columns, data types, and basic statistics of the data:"
      ],
      "metadata": {
        "id": "1kBaP4zI-Rxm"
      }
    },
    {
      "cell_type": "code",
      "source": [
        "players"
      ],
      "metadata": {
        "colab": {
          "base_uri": "https://localhost:8080/",
          "height": 424
        },
        "id": "zSj9SPsH065_",
        "outputId": "04f67d86-f759-400e-cec7-f9cd4b6ebf5d"
      },
      "execution_count": 59,
      "outputs": [
        {
          "output_type": "execute_result",
          "data": {
            "text/plain": [
              "                install_datetime                         player_id platform  \\\n",
              "0     2023-01-01 00:45:16.132000  5EBDFF6D66C42698F132C01DC026573D  android   \n",
              "1     2022-12-19 00:59:46.194000  A0B2352754DBC05198E6917F1C24A83F      ios   \n",
              "2     2022-12-09 21:09:26.520000  FE5DB1168E0C3A057CD6FFA0474599F5  android   \n",
              "3     2022-12-14 15:57:05.836000  25008EB8E0F7E7694C412AE47F125B21      ios   \n",
              "4     2023-01-01 20:40:11.885000  40798E31D33D6E4968BD8E916C116722  android   \n",
              "...                          ...                               ...      ...   \n",
              "4995  2022-12-15 23:45:09.983000  4082186821C463F649853A5B512A4332  android   \n",
              "4996  2022-12-16 00:59:57.637000  22F6CB66F8E58622C89AC5ED651C9936  android   \n",
              "4997  2022-12-22 00:55:19.064000  42E11B30A562905866FF97C0BCDAA131      ios   \n",
              "4998  2023-01-01 20:40:26.847000  845DB45DF729DC180876F040427BF374      ios   \n",
              "4999  2022-12-17 03:51:23.675000  101BC951C37F0E6011AA25D4F9E08155      ios   \n",
              "\n",
              "     country  screen_size  system_memory  \n",
              "0         US     5.712000           3616  \n",
              "1         AU     6.054062           3851  \n",
              "2         US     5.316275           5627  \n",
              "3         US     6.054062           3851  \n",
              "4         US     5.777590           7461  \n",
              "...      ...          ...            ...  \n",
              "4995      US     5.696880          10312  \n",
              "4996      US     6.090847           2785  \n",
              "4997      US     6.055348           2831  \n",
              "4998      GB     6.682057           5626  \n",
              "4999      AU    10.227273           2954  \n",
              "\n",
              "[5000 rows x 6 columns]"
            ],
            "text/html": [
              "\n",
              "  <div id=\"df-cdb5da11-3cc8-4c6c-84ab-c4f0272535b8\">\n",
              "    <div class=\"colab-df-container\">\n",
              "      <div>\n",
              "<style scoped>\n",
              "    .dataframe tbody tr th:only-of-type {\n",
              "        vertical-align: middle;\n",
              "    }\n",
              "\n",
              "    .dataframe tbody tr th {\n",
              "        vertical-align: top;\n",
              "    }\n",
              "\n",
              "    .dataframe thead th {\n",
              "        text-align: right;\n",
              "    }\n",
              "</style>\n",
              "<table border=\"1\" class=\"dataframe\">\n",
              "  <thead>\n",
              "    <tr style=\"text-align: right;\">\n",
              "      <th></th>\n",
              "      <th>install_datetime</th>\n",
              "      <th>player_id</th>\n",
              "      <th>platform</th>\n",
              "      <th>country</th>\n",
              "      <th>screen_size</th>\n",
              "      <th>system_memory</th>\n",
              "    </tr>\n",
              "  </thead>\n",
              "  <tbody>\n",
              "    <tr>\n",
              "      <th>0</th>\n",
              "      <td>2023-01-01 00:45:16.132000</td>\n",
              "      <td>5EBDFF6D66C42698F132C01DC026573D</td>\n",
              "      <td>android</td>\n",
              "      <td>US</td>\n",
              "      <td>5.712000</td>\n",
              "      <td>3616</td>\n",
              "    </tr>\n",
              "    <tr>\n",
              "      <th>1</th>\n",
              "      <td>2022-12-19 00:59:46.194000</td>\n",
              "      <td>A0B2352754DBC05198E6917F1C24A83F</td>\n",
              "      <td>ios</td>\n",
              "      <td>AU</td>\n",
              "      <td>6.054062</td>\n",
              "      <td>3851</td>\n",
              "    </tr>\n",
              "    <tr>\n",
              "      <th>2</th>\n",
              "      <td>2022-12-09 21:09:26.520000</td>\n",
              "      <td>FE5DB1168E0C3A057CD6FFA0474599F5</td>\n",
              "      <td>android</td>\n",
              "      <td>US</td>\n",
              "      <td>5.316275</td>\n",
              "      <td>5627</td>\n",
              "    </tr>\n",
              "    <tr>\n",
              "      <th>3</th>\n",
              "      <td>2022-12-14 15:57:05.836000</td>\n",
              "      <td>25008EB8E0F7E7694C412AE47F125B21</td>\n",
              "      <td>ios</td>\n",
              "      <td>US</td>\n",
              "      <td>6.054062</td>\n",
              "      <td>3851</td>\n",
              "    </tr>\n",
              "    <tr>\n",
              "      <th>4</th>\n",
              "      <td>2023-01-01 20:40:11.885000</td>\n",
              "      <td>40798E31D33D6E4968BD8E916C116722</td>\n",
              "      <td>android</td>\n",
              "      <td>US</td>\n",
              "      <td>5.777590</td>\n",
              "      <td>7461</td>\n",
              "    </tr>\n",
              "    <tr>\n",
              "      <th>...</th>\n",
              "      <td>...</td>\n",
              "      <td>...</td>\n",
              "      <td>...</td>\n",
              "      <td>...</td>\n",
              "      <td>...</td>\n",
              "      <td>...</td>\n",
              "    </tr>\n",
              "    <tr>\n",
              "      <th>4995</th>\n",
              "      <td>2022-12-15 23:45:09.983000</td>\n",
              "      <td>4082186821C463F649853A5B512A4332</td>\n",
              "      <td>android</td>\n",
              "      <td>US</td>\n",
              "      <td>5.696880</td>\n",
              "      <td>10312</td>\n",
              "    </tr>\n",
              "    <tr>\n",
              "      <th>4996</th>\n",
              "      <td>2022-12-16 00:59:57.637000</td>\n",
              "      <td>22F6CB66F8E58622C89AC5ED651C9936</td>\n",
              "      <td>android</td>\n",
              "      <td>US</td>\n",
              "      <td>6.090847</td>\n",
              "      <td>2785</td>\n",
              "    </tr>\n",
              "    <tr>\n",
              "      <th>4997</th>\n",
              "      <td>2022-12-22 00:55:19.064000</td>\n",
              "      <td>42E11B30A562905866FF97C0BCDAA131</td>\n",
              "      <td>ios</td>\n",
              "      <td>US</td>\n",
              "      <td>6.055348</td>\n",
              "      <td>2831</td>\n",
              "    </tr>\n",
              "    <tr>\n",
              "      <th>4998</th>\n",
              "      <td>2023-01-01 20:40:26.847000</td>\n",
              "      <td>845DB45DF729DC180876F040427BF374</td>\n",
              "      <td>ios</td>\n",
              "      <td>GB</td>\n",
              "      <td>6.682057</td>\n",
              "      <td>5626</td>\n",
              "    </tr>\n",
              "    <tr>\n",
              "      <th>4999</th>\n",
              "      <td>2022-12-17 03:51:23.675000</td>\n",
              "      <td>101BC951C37F0E6011AA25D4F9E08155</td>\n",
              "      <td>ios</td>\n",
              "      <td>AU</td>\n",
              "      <td>10.227273</td>\n",
              "      <td>2954</td>\n",
              "    </tr>\n",
              "  </tbody>\n",
              "</table>\n",
              "<p>5000 rows × 6 columns</p>\n",
              "</div>\n",
              "      <button class=\"colab-df-convert\" onclick=\"convertToInteractive('df-cdb5da11-3cc8-4c6c-84ab-c4f0272535b8')\"\n",
              "              title=\"Convert this dataframe to an interactive table.\"\n",
              "              style=\"display:none;\">\n",
              "        \n",
              "  <svg xmlns=\"http://www.w3.org/2000/svg\" height=\"24px\"viewBox=\"0 0 24 24\"\n",
              "       width=\"24px\">\n",
              "    <path d=\"M0 0h24v24H0V0z\" fill=\"none\"/>\n",
              "    <path d=\"M18.56 5.44l.94 2.06.94-2.06 2.06-.94-2.06-.94-.94-2.06-.94 2.06-2.06.94zm-11 1L8.5 8.5l.94-2.06 2.06-.94-2.06-.94L8.5 2.5l-.94 2.06-2.06.94zm10 10l.94 2.06.94-2.06 2.06-.94-2.06-.94-.94-2.06-.94 2.06-2.06.94z\"/><path d=\"M17.41 7.96l-1.37-1.37c-.4-.4-.92-.59-1.43-.59-.52 0-1.04.2-1.43.59L10.3 9.45l-7.72 7.72c-.78.78-.78 2.05 0 2.83L4 21.41c.39.39.9.59 1.41.59.51 0 1.02-.2 1.41-.59l7.78-7.78 2.81-2.81c.8-.78.8-2.07 0-2.86zM5.41 20L4 18.59l7.72-7.72 1.47 1.35L5.41 20z\"/>\n",
              "  </svg>\n",
              "      </button>\n",
              "      \n",
              "  <style>\n",
              "    .colab-df-container {\n",
              "      display:flex;\n",
              "      flex-wrap:wrap;\n",
              "      gap: 12px;\n",
              "    }\n",
              "\n",
              "    .colab-df-convert {\n",
              "      background-color: #E8F0FE;\n",
              "      border: none;\n",
              "      border-radius: 50%;\n",
              "      cursor: pointer;\n",
              "      display: none;\n",
              "      fill: #1967D2;\n",
              "      height: 32px;\n",
              "      padding: 0 0 0 0;\n",
              "      width: 32px;\n",
              "    }\n",
              "\n",
              "    .colab-df-convert:hover {\n",
              "      background-color: #E2EBFA;\n",
              "      box-shadow: 0px 1px 2px rgba(60, 64, 67, 0.3), 0px 1px 3px 1px rgba(60, 64, 67, 0.15);\n",
              "      fill: #174EA6;\n",
              "    }\n",
              "\n",
              "    [theme=dark] .colab-df-convert {\n",
              "      background-color: #3B4455;\n",
              "      fill: #D2E3FC;\n",
              "    }\n",
              "\n",
              "    [theme=dark] .colab-df-convert:hover {\n",
              "      background-color: #434B5C;\n",
              "      box-shadow: 0px 1px 3px 1px rgba(0, 0, 0, 0.15);\n",
              "      filter: drop-shadow(0px 1px 2px rgba(0, 0, 0, 0.3));\n",
              "      fill: #FFFFFF;\n",
              "    }\n",
              "  </style>\n",
              "\n",
              "      <script>\n",
              "        const buttonEl =\n",
              "          document.querySelector('#df-cdb5da11-3cc8-4c6c-84ab-c4f0272535b8 button.colab-df-convert');\n",
              "        buttonEl.style.display =\n",
              "          google.colab.kernel.accessAllowed ? 'block' : 'none';\n",
              "\n",
              "        async function convertToInteractive(key) {\n",
              "          const element = document.querySelector('#df-cdb5da11-3cc8-4c6c-84ab-c4f0272535b8');\n",
              "          const dataTable =\n",
              "            await google.colab.kernel.invokeFunction('convertToInteractive',\n",
              "                                                     [key], {});\n",
              "          if (!dataTable) return;\n",
              "\n",
              "          const docLinkHtml = 'Like what you see? Visit the ' +\n",
              "            '<a target=\"_blank\" href=https://colab.research.google.com/notebooks/data_table.ipynb>data table notebook</a>'\n",
              "            + ' to learn more about interactive tables.';\n",
              "          element.innerHTML = '';\n",
              "          dataTable['output_type'] = 'display_data';\n",
              "          await google.colab.output.renderOutput(dataTable, element);\n",
              "          const docLink = document.createElement('div');\n",
              "          docLink.innerHTML = docLinkHtml;\n",
              "          element.appendChild(docLink);\n",
              "        }\n",
              "      </script>\n",
              "    </div>\n",
              "  </div>\n",
              "  "
            ]
          },
          "metadata": {},
          "execution_count": 59
        }
      ]
    },
    {
      "cell_type": "code",
      "source": [
        "level_progress"
      ],
      "metadata": {
        "colab": {
          "base_uri": "https://localhost:8080/",
          "height": 661
        },
        "id": "XpILi19J0_VX",
        "outputId": "e4da8574-750c-4f22-c840-e4faa958066c"
      },
      "execution_count": 60,
      "outputs": [
        {
          "output_type": "execute_result",
          "data": {
            "text/plain": [
              "                   event_datetime                         player_id  \\\n",
              "0      2022-12-08 00:54:51.813000  00030CDB447CCCE184BBF30B3F166EAB   \n",
              "1      2022-12-08 00:56:52.981000  00030CDB447CCCE184BBF30B3F166EAB   \n",
              "2      2022-12-08 00:57:07.960000  00030CDB447CCCE184BBF30B3F166EAB   \n",
              "3      2022-12-08 00:58:14.173000  00030CDB447CCCE184BBF30B3F166EAB   \n",
              "4      2022-12-08 00:58:27.386000  00030CDB447CCCE184BBF30B3F166EAB   \n",
              "...                           ...                               ...   \n",
              "83277  2022-12-28 22:33:08.442000  FFF8009A67AF2B8DF2749D9C11C7DC86   \n",
              "83278  2022-12-28 22:33:31.650000  FFF8009A67AF2B8DF2749D9C11C7DC86   \n",
              "83279  2022-12-28 22:34:01.408000  FFF8009A67AF2B8DF2749D9C11C7DC86   \n",
              "83280  2022-12-28 22:34:51.820000  FFF8009A67AF2B8DF2749D9C11C7DC86   \n",
              "83281  2022-12-28 22:35:10.511000  FFF8009A67AF2B8DF2749D9C11C7DC86   \n",
              "\n",
              "       level_number  stage_number    status                        session_id  \n",
              "0                 1             1     start  FB4B79C03AF723057EE81F7416061D06  \n",
              "1                 1             1  complete  BB5F69316E29360EA35533C8B6EAA6C0  \n",
              "2                 1             2     start  BB5F69316E29360EA35533C8B6EAA6C0  \n",
              "3                 1             2  complete  72D31206402CD71E19C68A7FB712E128  \n",
              "4                 2             1     start  72D31206402CD71E19C68A7FB712E128  \n",
              "...             ...           ...       ...                               ...  \n",
              "83277             4             3      fail  A5DB077CF68CB173444D6AD8FC3E2BF1  \n",
              "83278             4             3  complete  A5DB077CF68CB173444D6AD8FC3E2BF1  \n",
              "83279             5             1     start  A5DB077CF68CB173444D6AD8FC3E2BF1  \n",
              "83280             5             1  complete  A5DB077CF68CB173444D6AD8FC3E2BF1  \n",
              "83281             5             2     start  A5DB077CF68CB173444D6AD8FC3E2BF1  \n",
              "\n",
              "[83282 rows x 6 columns]"
            ],
            "text/html": [
              "\n",
              "  <div id=\"df-f00f02c5-b0ea-446b-80a7-51509d28a7da\">\n",
              "    <div class=\"colab-df-container\">\n",
              "      <div>\n",
              "<style scoped>\n",
              "    .dataframe tbody tr th:only-of-type {\n",
              "        vertical-align: middle;\n",
              "    }\n",
              "\n",
              "    .dataframe tbody tr th {\n",
              "        vertical-align: top;\n",
              "    }\n",
              "\n",
              "    .dataframe thead th {\n",
              "        text-align: right;\n",
              "    }\n",
              "</style>\n",
              "<table border=\"1\" class=\"dataframe\">\n",
              "  <thead>\n",
              "    <tr style=\"text-align: right;\">\n",
              "      <th></th>\n",
              "      <th>event_datetime</th>\n",
              "      <th>player_id</th>\n",
              "      <th>level_number</th>\n",
              "      <th>stage_number</th>\n",
              "      <th>status</th>\n",
              "      <th>session_id</th>\n",
              "    </tr>\n",
              "  </thead>\n",
              "  <tbody>\n",
              "    <tr>\n",
              "      <th>0</th>\n",
              "      <td>2022-12-08 00:54:51.813000</td>\n",
              "      <td>00030CDB447CCCE184BBF30B3F166EAB</td>\n",
              "      <td>1</td>\n",
              "      <td>1</td>\n",
              "      <td>start</td>\n",
              "      <td>FB4B79C03AF723057EE81F7416061D06</td>\n",
              "    </tr>\n",
              "    <tr>\n",
              "      <th>1</th>\n",
              "      <td>2022-12-08 00:56:52.981000</td>\n",
              "      <td>00030CDB447CCCE184BBF30B3F166EAB</td>\n",
              "      <td>1</td>\n",
              "      <td>1</td>\n",
              "      <td>complete</td>\n",
              "      <td>BB5F69316E29360EA35533C8B6EAA6C0</td>\n",
              "    </tr>\n",
              "    <tr>\n",
              "      <th>2</th>\n",
              "      <td>2022-12-08 00:57:07.960000</td>\n",
              "      <td>00030CDB447CCCE184BBF30B3F166EAB</td>\n",
              "      <td>1</td>\n",
              "      <td>2</td>\n",
              "      <td>start</td>\n",
              "      <td>BB5F69316E29360EA35533C8B6EAA6C0</td>\n",
              "    </tr>\n",
              "    <tr>\n",
              "      <th>3</th>\n",
              "      <td>2022-12-08 00:58:14.173000</td>\n",
              "      <td>00030CDB447CCCE184BBF30B3F166EAB</td>\n",
              "      <td>1</td>\n",
              "      <td>2</td>\n",
              "      <td>complete</td>\n",
              "      <td>72D31206402CD71E19C68A7FB712E128</td>\n",
              "    </tr>\n",
              "    <tr>\n",
              "      <th>4</th>\n",
              "      <td>2022-12-08 00:58:27.386000</td>\n",
              "      <td>00030CDB447CCCE184BBF30B3F166EAB</td>\n",
              "      <td>2</td>\n",
              "      <td>1</td>\n",
              "      <td>start</td>\n",
              "      <td>72D31206402CD71E19C68A7FB712E128</td>\n",
              "    </tr>\n",
              "    <tr>\n",
              "      <th>...</th>\n",
              "      <td>...</td>\n",
              "      <td>...</td>\n",
              "      <td>...</td>\n",
              "      <td>...</td>\n",
              "      <td>...</td>\n",
              "      <td>...</td>\n",
              "    </tr>\n",
              "    <tr>\n",
              "      <th>83277</th>\n",
              "      <td>2022-12-28 22:33:08.442000</td>\n",
              "      <td>FFF8009A67AF2B8DF2749D9C11C7DC86</td>\n",
              "      <td>4</td>\n",
              "      <td>3</td>\n",
              "      <td>fail</td>\n",
              "      <td>A5DB077CF68CB173444D6AD8FC3E2BF1</td>\n",
              "    </tr>\n",
              "    <tr>\n",
              "      <th>83278</th>\n",
              "      <td>2022-12-28 22:33:31.650000</td>\n",
              "      <td>FFF8009A67AF2B8DF2749D9C11C7DC86</td>\n",
              "      <td>4</td>\n",
              "      <td>3</td>\n",
              "      <td>complete</td>\n",
              "      <td>A5DB077CF68CB173444D6AD8FC3E2BF1</td>\n",
              "    </tr>\n",
              "    <tr>\n",
              "      <th>83279</th>\n",
              "      <td>2022-12-28 22:34:01.408000</td>\n",
              "      <td>FFF8009A67AF2B8DF2749D9C11C7DC86</td>\n",
              "      <td>5</td>\n",
              "      <td>1</td>\n",
              "      <td>start</td>\n",
              "      <td>A5DB077CF68CB173444D6AD8FC3E2BF1</td>\n",
              "    </tr>\n",
              "    <tr>\n",
              "      <th>83280</th>\n",
              "      <td>2022-12-28 22:34:51.820000</td>\n",
              "      <td>FFF8009A67AF2B8DF2749D9C11C7DC86</td>\n",
              "      <td>5</td>\n",
              "      <td>1</td>\n",
              "      <td>complete</td>\n",
              "      <td>A5DB077CF68CB173444D6AD8FC3E2BF1</td>\n",
              "    </tr>\n",
              "    <tr>\n",
              "      <th>83281</th>\n",
              "      <td>2022-12-28 22:35:10.511000</td>\n",
              "      <td>FFF8009A67AF2B8DF2749D9C11C7DC86</td>\n",
              "      <td>5</td>\n",
              "      <td>2</td>\n",
              "      <td>start</td>\n",
              "      <td>A5DB077CF68CB173444D6AD8FC3E2BF1</td>\n",
              "    </tr>\n",
              "  </tbody>\n",
              "</table>\n",
              "<p>83282 rows × 6 columns</p>\n",
              "</div>\n",
              "      <button class=\"colab-df-convert\" onclick=\"convertToInteractive('df-f00f02c5-b0ea-446b-80a7-51509d28a7da')\"\n",
              "              title=\"Convert this dataframe to an interactive table.\"\n",
              "              style=\"display:none;\">\n",
              "        \n",
              "  <svg xmlns=\"http://www.w3.org/2000/svg\" height=\"24px\"viewBox=\"0 0 24 24\"\n",
              "       width=\"24px\">\n",
              "    <path d=\"M0 0h24v24H0V0z\" fill=\"none\"/>\n",
              "    <path d=\"M18.56 5.44l.94 2.06.94-2.06 2.06-.94-2.06-.94-.94-2.06-.94 2.06-2.06.94zm-11 1L8.5 8.5l.94-2.06 2.06-.94-2.06-.94L8.5 2.5l-.94 2.06-2.06.94zm10 10l.94 2.06.94-2.06 2.06-.94-2.06-.94-.94-2.06-.94 2.06-2.06.94z\"/><path d=\"M17.41 7.96l-1.37-1.37c-.4-.4-.92-.59-1.43-.59-.52 0-1.04.2-1.43.59L10.3 9.45l-7.72 7.72c-.78.78-.78 2.05 0 2.83L4 21.41c.39.39.9.59 1.41.59.51 0 1.02-.2 1.41-.59l7.78-7.78 2.81-2.81c.8-.78.8-2.07 0-2.86zM5.41 20L4 18.59l7.72-7.72 1.47 1.35L5.41 20z\"/>\n",
              "  </svg>\n",
              "      </button>\n",
              "      \n",
              "  <style>\n",
              "    .colab-df-container {\n",
              "      display:flex;\n",
              "      flex-wrap:wrap;\n",
              "      gap: 12px;\n",
              "    }\n",
              "\n",
              "    .colab-df-convert {\n",
              "      background-color: #E8F0FE;\n",
              "      border: none;\n",
              "      border-radius: 50%;\n",
              "      cursor: pointer;\n",
              "      display: none;\n",
              "      fill: #1967D2;\n",
              "      height: 32px;\n",
              "      padding: 0 0 0 0;\n",
              "      width: 32px;\n",
              "    }\n",
              "\n",
              "    .colab-df-convert:hover {\n",
              "      background-color: #E2EBFA;\n",
              "      box-shadow: 0px 1px 2px rgba(60, 64, 67, 0.3), 0px 1px 3px 1px rgba(60, 64, 67, 0.15);\n",
              "      fill: #174EA6;\n",
              "    }\n",
              "\n",
              "    [theme=dark] .colab-df-convert {\n",
              "      background-color: #3B4455;\n",
              "      fill: #D2E3FC;\n",
              "    }\n",
              "\n",
              "    [theme=dark] .colab-df-convert:hover {\n",
              "      background-color: #434B5C;\n",
              "      box-shadow: 0px 1px 3px 1px rgba(0, 0, 0, 0.15);\n",
              "      filter: drop-shadow(0px 1px 2px rgba(0, 0, 0, 0.3));\n",
              "      fill: #FFFFFF;\n",
              "    }\n",
              "  </style>\n",
              "\n",
              "      <script>\n",
              "        const buttonEl =\n",
              "          document.querySelector('#df-f00f02c5-b0ea-446b-80a7-51509d28a7da button.colab-df-convert');\n",
              "        buttonEl.style.display =\n",
              "          google.colab.kernel.accessAllowed ? 'block' : 'none';\n",
              "\n",
              "        async function convertToInteractive(key) {\n",
              "          const element = document.querySelector('#df-f00f02c5-b0ea-446b-80a7-51509d28a7da');\n",
              "          const dataTable =\n",
              "            await google.colab.kernel.invokeFunction('convertToInteractive',\n",
              "                                                     [key], {});\n",
              "          if (!dataTable) return;\n",
              "\n",
              "          const docLinkHtml = 'Like what you see? Visit the ' +\n",
              "            '<a target=\"_blank\" href=https://colab.research.google.com/notebooks/data_table.ipynb>data table notebook</a>'\n",
              "            + ' to learn more about interactive tables.';\n",
              "          element.innerHTML = '';\n",
              "          dataTable['output_type'] = 'display_data';\n",
              "          await google.colab.output.renderOutput(dataTable, element);\n",
              "          const docLink = document.createElement('div');\n",
              "          docLink.innerHTML = docLinkHtml;\n",
              "          element.appendChild(docLink);\n",
              "        }\n",
              "      </script>\n",
              "    </div>\n",
              "  </div>\n",
              "  "
            ]
          },
          "metadata": {},
          "execution_count": 60
        }
      ]
    },
    {
      "cell_type": "code",
      "source": [
        "players.info()"
      ],
      "metadata": {
        "colab": {
          "base_uri": "https://localhost:8080/"
        },
        "id": "ZRUs90b81THr",
        "outputId": "454a069a-948b-4378-a517-1b357a77e8c3"
      },
      "execution_count": 61,
      "outputs": [
        {
          "output_type": "stream",
          "name": "stdout",
          "text": [
            "<class 'pandas.core.frame.DataFrame'>\n",
            "RangeIndex: 5000 entries, 0 to 4999\n",
            "Data columns (total 6 columns):\n",
            " #   Column            Non-Null Count  Dtype  \n",
            "---  ------            --------------  -----  \n",
            " 0   install_datetime  5000 non-null   object \n",
            " 1   player_id         5000 non-null   object \n",
            " 2   platform          5000 non-null   object \n",
            " 3   country           5000 non-null   object \n",
            " 4   screen_size       5000 non-null   float64\n",
            " 5   system_memory     5000 non-null   int64  \n",
            "dtypes: float64(1), int64(1), object(4)\n",
            "memory usage: 234.5+ KB\n"
          ]
        }
      ]
    },
    {
      "cell_type": "code",
      "source": [
        "level_progress.info()"
      ],
      "metadata": {
        "colab": {
          "base_uri": "https://localhost:8080/"
        },
        "id": "I2TfNzPj1vNe",
        "outputId": "d0b491c8-792d-467f-a382-7ae978308881"
      },
      "execution_count": 62,
      "outputs": [
        {
          "output_type": "stream",
          "name": "stdout",
          "text": [
            "<class 'pandas.core.frame.DataFrame'>\n",
            "RangeIndex: 83282 entries, 0 to 83281\n",
            "Data columns (total 6 columns):\n",
            " #   Column          Non-Null Count  Dtype \n",
            "---  ------          --------------  ----- \n",
            " 0   event_datetime  83282 non-null  object\n",
            " 1   player_id       83282 non-null  object\n",
            " 2   level_number    83282 non-null  int64 \n",
            " 3   stage_number    83282 non-null  int64 \n",
            " 4   status          83282 non-null  object\n",
            " 5   session_id      83282 non-null  object\n",
            "dtypes: int64(2), object(4)\n",
            "memory usage: 3.8+ MB\n"
          ]
        }
      ]
    },
    {
      "cell_type": "code",
      "source": [
        "players.shape"
      ],
      "metadata": {
        "colab": {
          "base_uri": "https://localhost:8080/"
        },
        "id": "Il4vAxkN2YHv",
        "outputId": "d339e5bc-83d8-439b-9fa3-d7f651589a89"
      },
      "execution_count": 63,
      "outputs": [
        {
          "output_type": "execute_result",
          "data": {
            "text/plain": [
              "(5000, 6)"
            ]
          },
          "metadata": {},
          "execution_count": 63
        }
      ]
    },
    {
      "cell_type": "code",
      "source": [
        "level_progress.shape"
      ],
      "metadata": {
        "colab": {
          "base_uri": "https://localhost:8080/"
        },
        "id": "9e8ZAmyQ2wk6",
        "outputId": "66332e74-02c1-49b9-9794-6aa44bad4963"
      },
      "execution_count": 64,
      "outputs": [
        {
          "output_type": "execute_result",
          "data": {
            "text/plain": [
              "(83282, 6)"
            ]
          },
          "metadata": {},
          "execution_count": 64
        }
      ]
    },
    {
      "cell_type": "code",
      "source": [
        "players.size"
      ],
      "metadata": {
        "colab": {
          "base_uri": "https://localhost:8080/"
        },
        "id": "ga62ulTm28oi",
        "outputId": "8e151f66-b957-4744-e8cd-947b2df11e70"
      },
      "execution_count": 65,
      "outputs": [
        {
          "output_type": "execute_result",
          "data": {
            "text/plain": [
              "30000"
            ]
          },
          "metadata": {},
          "execution_count": 65
        }
      ]
    },
    {
      "cell_type": "code",
      "source": [
        "level_progress.size"
      ],
      "metadata": {
        "colab": {
          "base_uri": "https://localhost:8080/"
        },
        "id": "dW3dGOZg3BvZ",
        "outputId": "86bb2154-12ad-4d43-84a9-c98de94d0c97"
      },
      "execution_count": 66,
      "outputs": [
        {
          "output_type": "execute_result",
          "data": {
            "text/plain": [
              "499692"
            ]
          },
          "metadata": {},
          "execution_count": 66
        }
      ]
    },
    {
      "cell_type": "code",
      "source": [
        "# Check the columns and data types\n",
        "print(players.columns)\n",
        "print(players.dtypes)\n",
        "print(level_progress.columns)\n",
        "print(level_progress.dtypes)\n",
        "\n",
        "# Check the basic statistics of the data\n",
        "print(players.describe())\n",
        "print(level_progress.describe())\n"
      ],
      "metadata": {
        "colab": {
          "base_uri": "https://localhost:8080/"
        },
        "id": "WAuZQLYS-W2r",
        "outputId": "8d3d3e06-7a25-4a80-c07f-fb628094464e"
      },
      "execution_count": 67,
      "outputs": [
        {
          "output_type": "stream",
          "name": "stdout",
          "text": [
            "Index(['install_datetime', 'player_id', 'platform', 'country', 'screen_size',\n",
            "       'system_memory'],\n",
            "      dtype='object')\n",
            "install_datetime     object\n",
            "player_id            object\n",
            "platform             object\n",
            "country              object\n",
            "screen_size         float64\n",
            "system_memory         int64\n",
            "dtype: object\n",
            "Index(['event_datetime', 'player_id', 'level_number', 'stage_number', 'status',\n",
            "       'session_id'],\n",
            "      dtype='object')\n",
            "event_datetime    object\n",
            "player_id         object\n",
            "level_number       int64\n",
            "stage_number       int64\n",
            "status            object\n",
            "session_id        object\n",
            "dtype: object\n",
            "       screen_size  system_memory\n",
            "count  5000.000000    5000.000000\n",
            "mean      6.757348    4134.544400\n",
            "std       1.879108    1823.272958\n",
            "min       3.999624     870.000000\n",
            "25%       5.687812    2951.000000\n",
            "50%       6.055348    3671.000000\n",
            "75%       7.086559    5366.000000\n",
            "max      12.933334   14596.000000\n",
            "       level_number  stage_number\n",
            "count  83282.000000  83282.000000\n",
            "mean       3.857616      1.789306\n",
            "std        4.219534      0.771703\n",
            "min        1.000000      1.000000\n",
            "25%        2.000000      1.000000\n",
            "50%        3.000000      2.000000\n",
            "75%        4.000000      2.000000\n",
            "max       68.000000      3.000000\n"
          ]
        }
      ]
    },
    {
      "cell_type": "markdown",
      "source": [
        "This output of the above code will show,\n",
        "\n",
        "1.column names,\n",
        "\n",
        "2.Data types,\n",
        "\n",
        "3.Basic statistics of the data. \n",
        "\n",
        "*   It is important to check if there are any missing values,duplicate records, or outliers that need to be removed.\n",
        "\n",
        "*   check the number of unique players in each dataset."
      ],
      "metadata": {
        "id": "qCMlKlMD-kJ7"
      }
    },
    {
      "cell_type": "code",
      "source": [
        "# Check for missing values\n",
        "print(players.isna().sum())\n",
        "print(level_progress.isna().sum())\n",
        "\n",
        "# Check for duplicates\n",
        "print(players.duplicated().sum())\n",
        "print(level_progress.duplicated().sum())\n",
        "\n",
        "# Check for outliers\n",
        "sns.boxplot(x=players['screen_size'])\n",
        "sns.boxplot(x=players['system_memory'])\n",
        "\n",
        "# Check the number of unique players\n",
        "print(len(players['player_id'].unique()))\n",
        "print(len(level_progress['player_id'].unique()))\n"
      ],
      "metadata": {
        "colab": {
          "base_uri": "https://localhost:8080/",
          "height": 592
        },
        "id": "0ceShyae_hji",
        "outputId": "fb6d9259-5be5-49f3-85c7-5236e070ae37"
      },
      "execution_count": 68,
      "outputs": [
        {
          "output_type": "stream",
          "name": "stdout",
          "text": [
            "install_datetime    0\n",
            "player_id           0\n",
            "platform            0\n",
            "country             0\n",
            "screen_size         0\n",
            "system_memory       0\n",
            "dtype: int64\n",
            "event_datetime    0\n",
            "player_id         0\n",
            "level_number      0\n",
            "stage_number      0\n",
            "status            0\n",
            "session_id        0\n",
            "dtype: int64\n",
            "0\n",
            "0\n",
            "4999\n",
            "4939\n"
          ]
        },
        {
          "output_type": "display_data",
          "data": {
            "text/plain": [
              "<Figure size 432x288 with 1 Axes>"
            ],
            "image/png": "[encoded data removed]"
          },
          "metadata": {
            "needs_background": "light"
          }
        }
      ]
    },
    {
      "cell_type": "markdown",
      "source": [
        "Converted the date and time columns in both dataframes to datetime format. Then, we can merge the two dataframes based on player_id using pandas merge() function."
      ],
      "metadata": {
        "id": "lVeZpM2u7749"
      }
    },
    {
      "cell_type": "code",
      "source": [
        "# Converting date and time columns to datetime format\n",
        "players['install_datetime'] = pd.to_datetime(players['install_datetime'])\n",
        "level_progress['event_datetime'] = pd.to_datetime(level_progress['event_datetime'])\n",
        "\n",
        "# Merging the two dataframes based on player_id\n",
        "merged = pd.merge(players, level_progress, on='player_id')\n"
      ],
      "metadata": {
        "id": "zAIE1Z-iC9Lo"
      },
      "execution_count": 69,
      "outputs": []
    },
    {
      "cell_type": "markdown",
      "source": [
        "Any Missing values or duplicates, has been removed. In this case, the outliers will be kept. The number of unique players in each dataset is also important to check since the players will be linked using their player_id."
      ],
      "metadata": {
        "id": "79a-Bpps_sdn"
      }
    },
    {
      "cell_type": "markdown",
      "source": [
        "# 3. Conduct Exploratory Data Analysis\n",
        "\n",
        "Conduct EDA to understand the data and gain insights. will start by creating visualizations of the data:"
      ],
      "metadata": {
        "id": "MICLJt9MA5fp"
      }
    },
    {
      "cell_type": "code",
      "source": [
        "merged_data = pd.merge(players, level_progress, on='player_id')\n"
      ],
      "metadata": {
        "id": "Qz9F2LoLCBti"
      },
      "execution_count": 71,
      "outputs": []
    },
    {
      "cell_type": "code",
      "source": [
        "print(merged_data.isnull().sum())\n"
      ],
      "metadata": {
        "colab": {
          "base_uri": "https://localhost:8080/"
        },
        "id": "MF7YnnrfCFao",
        "outputId": "bbd14b2e-8c61-4b84-ac2e-5e393c43799a"
      },
      "execution_count": 72,
      "outputs": [
        {
          "output_type": "stream",
          "name": "stdout",
          "text": [
            "install_datetime    0\n",
            "player_id           0\n",
            "platform            0\n",
            "country             0\n",
            "screen_size         0\n",
            "system_memory       0\n",
            "event_datetime      0\n",
            "level_number        0\n",
            "stage_number        0\n",
            "status              0\n",
            "session_id          0\n",
            "dtype: int64\n"
          ]
        }
      ]
    },
    {
      "cell_type": "code",
      "source": [
        "# Summary statistics\n",
        "merged_data.describe()\n",
        "\n",
        "# Distribution of categorical variables\n",
        "sns.countplot(x='status', data=merged_data)\n",
        "plt.show()\n",
        "\n",
        "sns.countplot(x='platform', data=merged_data)\n",
        "plt.show()\n",
        "\n",
        "sns.countplot(x='country', data=merged_data)\n",
        "plt.show()\n",
        "\n",
        "# Distribution of continuous variables\n",
        "sns.histplot(x='screen_size', data=merged_data)\n",
        "plt.show()\n",
        "\n",
        "sns.histplot(x='system_memory', data=merged_data)\n",
        "plt.show()\n"
      ],
      "metadata": {
        "colab": {
          "base_uri": "https://localhost:8080/",
          "height": 1000
        },
        "id": "7o5U2fPkDxli",
        "outputId": "795c1a28-111c-49b8-9b6b-b46d55a84ecc"
      },
      "execution_count": 70,
      "outputs": [
        {
          "output_type": "display_data",
          "data": {
            "text/plain": [
              "<Figure size 432x288 with 1 Axes>"
            ],
            "image/png": "[encoded data removed]"
          },
          "metadata": {
            "needs_background": "light"
          }
        },
        {
          "output_type": "display_data",
          "data": {
            "text/plain": [
              "<Figure size 432x288 with 1 Axes>"
            ],
            "image/png": "[encoded data removed]"
          },
          "metadata": {
            "needs_background": "light"
          }
        },
        {
          "output_type": "display_data",
          "data": {
            "text/plain": [
              "<Figure size 432x288 with 1 Axes>"
            ],
            "image/png": "[encoded data removed]"
          },
          "metadata": {
            "needs_background": "light"
          }
        },
        {
          "output_type": "display_data",
          "data": {
            "text/plain": [
              "<Figure size 432x288 with 1 Axes>"
            ],
            "image/png": "[encoded data removed]"
          },
          "metadata": {
            "needs_background": "light"
          }
        },
        {
          "output_type": "display_data",
          "data": {
            "text/plain": [
              "<Figure size 432x288 with 1 Axes>"
            ],
            "image/png": "[encoded data removed]"
          },
          "metadata": {
            "needs_background": "light"
          }
        }
      ]
    },
    {
      "cell_type": "markdown",
      "source": [
        "# Step 4: Calculate churn rate\n",
        "\n",
        "Calculated the churn rate as the proportion of players who did not progress beyond the first level."
      ],
      "metadata": {
        "id": "_gMsiPIE40Ia"
      }
    },
    {
      "cell_type": "code",
      "source": [
        "churned = merged_data[merged_data['level_number'] == 1]['player_id'].nunique()\n",
        "total_players = merged_data['player_id'].nunique()\n",
        "churn_rate = churned / total_players\n",
        "print(f\"Churn rate: {churn_rate:.2%}\")\n"
      ],
      "metadata": {
        "colab": {
          "base_uri": "https://localhost:8080/"
        },
        "id": "gqCw0ETPCKW7",
        "outputId": "96115062-c40f-4e65-cced-0121f2ea67c9"
      },
      "execution_count": 73,
      "outputs": [
        {
          "output_type": "stream",
          "name": "stdout",
          "text": [
            "Churn rate: 99.68%\n"
          ]
        }
      ]
    },
    {
      "cell_type": "code",
      "source": [
        "failed_players = level_progress[level_progress['status'] == 'fail']['player_id'].unique()\n",
        "failed_players_progress = level_progress[level_progress['player_id'].isin(failed_players)]\n"
      ],
      "metadata": {
        "id": "QsSYeVqADV3J"
      },
      "execution_count": 74,
      "outputs": []
    },
    {
      "cell_type": "code",
      "source": [
        "failed_churn_rate = 1 - failed_players_progress['player_id'].nunique() / players['player_id'].nunique()\n"
      ],
      "metadata": {
        "id": "-FW5x2TtDaWj"
      },
      "execution_count": 75,
      "outputs": []
    },
    {
      "cell_type": "code",
      "source": [
        "non_failed_players = level_progress[level_progress['status'] == 'complete']['player_id'].unique()\n",
        "non_failed_players_progress = level_progress[level_progress['player_id'].isin(non_failed_players)]\n",
        "\n",
        "non_failed_churn_rate = 1 - non_failed_players_progress['player_id'].nunique() / players['player_id'].nunique()\n"
      ],
      "metadata": {
        "id": "dFpFSdAiDcnP"
      },
      "execution_count": 76,
      "outputs": []
    },
    {
      "cell_type": "code",
      "source": [
        "print('Churn rate for players who failed at least one level:', failed_churn_rate)\n",
        "print('Churn rate for players who did not fail any levels:', non_failed_churn_rate)\n",
        "\n"
      ],
      "metadata": {
        "colab": {
          "base_uri": "https://localhost:8080/"
        },
        "id": "m0fdd7-ODfKZ",
        "outputId": "b70b8680-caa8-4e8f-c58e-00cac48f8e47"
      },
      "execution_count": 77,
      "outputs": [
        {
          "output_type": "stream",
          "name": "stdout",
          "text": [
            "Churn rate for players who failed at least one level: 0.5061012202440488\n",
            "Churn rate for players who did not fail any levels: 0.126625325065013\n"
          ]
        }
      ]
    },
    {
      "cell_type": "markdown",
      "source": [
        "# Step 5: Data Analysis\n",
        "\n",
        "In this step, I have answered the research question by analyzing whether failing a level increases the risk of churn."
      ],
      "metadata": {
        "id": "NpfBf6x1ADiM"
      }
    },
    {
      "cell_type": "code",
      "source": [
        "# Count the number of players who failed a level\n",
        "failed_levels = merged_data[merged_data['status'] == 'fail'].groupby('player_id')['level_number'].count().reset_index(name='failed_levels')\n",
        "\n",
        "# Count the total number of levels attempted by each player\n",
        "total_levels = merged_data.groupby('player_id')['level_number'].nunique().reset_index(name='total_levels')\n",
        "\n",
        "# Merge the two dataframes\n",
        "df = pd.merge(total_levels, failed_levels, on='player_id', how='left')\n",
        "\n",
        "# Replace NaN values with 0\n",
        "df['failed_levels'].fillna(0, inplace=True)\n",
        "\n",
        "# Calculate the proportion of players who failed at least one level\n",
        "df['churn'] = df['failed_levels']/df['total_levels']\n",
        "\n",
        "# Distribution of churn\n",
        "sns.histplot(x='churn', data=df)\n",
        "plt.show()\n",
        "\n",
        "# Average churn rate\n",
        "df['churn'].mean()\n",
        "\n",
        "# Failed levels vs churn\n",
        "sns.scatterplot(x='failed_levels', y='churn', data=df)\n",
        "plt.show()\n"
      ],
      "metadata": {
        "colab": {
          "base_uri": "https://localhost:8080/",
          "height": 542
        },
        "id": "nGvSPqS0D7T_",
        "outputId": "1552a807-dd9d-413e-dc28-568092758980"
      },
      "execution_count": 82,
      "outputs": [
        {
          "output_type": "display_data",
          "data": {
            "text/plain": [
              "<Figure size 432x288 with 1 Axes>"
            ],
            "image/png": "[encoded data removed]"
          },
          "metadata": {
            "needs_background": "light"
          }
        },
        {
          "output_type": "display_data",
          "data": {
            "text/plain": [
              "<Figure size 432x288 with 1 Axes>"
            ],
            "image/png": "[encoded data removed]"
          },
          "metadata": {
            "needs_background": "light"
          }
        }
      ]
    },
    {
      "cell_type": "markdown",
      "source": [
        "# Step 6: Visualize churn rate by platform\n",
        "\n",
        "Created a bar chart to compare the churn rate between Android and iOS platforms:"
      ],
      "metadata": {
        "id": "1vL3Si165Cqz"
      }
    },
    {
      "cell_type": "code",
      "source": [
        "churn_by_platform = merged_data[merged_data['level_number'] == 1].groupby('platform')['player_id'].nunique()\n",
        "sns.barplot(x=churn_by_platform.index, y=churn_by_platform.values)\n",
        "plt.xlabel('Platform')\n",
        "plt.ylabel('Churned players')\n",
        "plt.title('Churn rate by platform')\n",
        "plt.show()\n"
      ],
      "metadata": {
        "colab": {
          "base_uri": "https://localhost:8080/",
          "height": 295
        },
        "id": "15HxvCpMCOzE",
        "outputId": "34713ae1-96b7-4a62-da80-c06e352a30ed"
      },
      "execution_count": 78,
      "outputs": [
        {
          "output_type": "display_data",
          "data": {
            "text/plain": [
              "<Figure size 432x288 with 1 Axes>"
            ],
            "image/png": "[encoded data removed]"
          },
          "metadata": {
            "needs_background": "light"
          }
        }
      ]
    },
    {
      "cell_type": "markdown",
      "source": [
        "# Step 7: Visualize level progress by status\n",
        "\n",
        "Created a stacked bar chart to show the proportion of players who started, failed, or completed each level."
      ],
      "metadata": {
        "id": "oQQ3ftBo5YoD"
      }
    },
    {
      "cell_type": "code",
      "source": [
        "level_progress_by_status = merged_data.groupby(['level_number', 'status'])['player_id'].nunique().reset_index()\n",
        "sns.barplot(x='level_number', y='player_id', hue='status', data=level_progress_by_status)\n",
        "plt.xlabel('Level')\n",
        "plt.ylabel('Number of players')\n",
        "plt.title('Level progress by status')\n",
        "plt.show()\n"
      ],
      "metadata": {
        "colab": {
          "base_uri": "https://localhost:8080/",
          "height": 295
        },
        "id": "sBMMCim3CYA_",
        "outputId": "9792e207-4a2d-4420-ef88-21de57b8a25c"
      },
      "execution_count": 79,
      "outputs": [
        {
          "output_type": "display_data",
          "data": {
            "text/plain": [
              "<Figure size 432x288 with 1 Axes>"
            ],
            "image/png": "[encoded data removed]"
          },
          "metadata": {
            "needs_background": "light"
          }
        }
      ]
    },
    {
      "cell_type": "markdown",
      "source": [
        "# Step 8: Visualize level progress by stage and status\n",
        "\n",
        "Created a heatmap to show the proportion of players who started, failed, or completed each stage for each level."
      ],
      "metadata": {
        "id": "3F53ojsG5lMM"
      }
    },
    {
      "cell_type": "code",
      "source": [
        "# Finding the last level completed by each player\n",
        "last_level = merged.groupby('player_id')['level_number'].max().reset_index()\n",
        "\n",
        "# Finding the players who have churned\n",
        "churned_players = last_level[last_level['level_number'] < merged['level_number'].max()]['player_id'].tolist()\n",
        "\n",
        "# Calculating the churn rate\n",
        "churn_rate = len(churned_players) / len(merged['player_id'].unique()) * 100\n",
        "\n",
        "print(\"Churn rate: \", churn_rate, \"%\")\n"
      ],
      "metadata": {
        "colab": {
          "base_uri": "https://localhost:8080/"
        },
        "id": "qd4hwe9rDAfk",
        "outputId": "2ee47818-5982-473e-fa2a-02005228c391"
      },
      "execution_count": 80,
      "outputs": [
        {
          "output_type": "stream",
          "name": "stdout",
          "text": [
            "Churn rate:  99.9797529864345 %\n"
          ]
        }
      ]
    },
    {
      "cell_type": "code",
      "source": [
        "level_progress_by_stage = merged_data.groupby(['level_number', 'stage_number', 'status'])['player_id'].nunique().reset_index()\n",
        "level_progress_pivot = level_progress_by_stage.pivot(index='stage_number', columns=['level_number', 'status'], values='player_id')\n",
        "sns.heatmap(level_progress_pivot, cmap='Blues')\n",
        "plt.xlabel('Level')\n",
        "plt.ylabel('Stage')\n",
        "plt.title('Level progress by stage and status')\n",
        "plt.show()\n"
      ],
      "metadata": {
        "colab": {
          "base_uri": "https://localhost:8080/",
          "height": 348
        },
        "id": "kq9hh15t9Ato",
        "outputId": "9985eb5f-e6e5-4fbf-eb1a-d3553162688b"
      },
      "execution_count": 81,
      "outputs": [
        {
          "output_type": "display_data",
          "data": {
            "text/plain": [
              "<Figure size 432x288 with 2 Axes>"
            ],
            "image/png": "[encoded data removed]"
          },
          "metadata": {
            "needs_background": "light"
          }
        }
      ]
    }
  ]
}